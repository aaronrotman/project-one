{
 "cells": [
  {
   "cell_type": "code",
   "execution_count": 107,
   "metadata": {},
   "outputs": [],
   "source": [
    "# Dependencies and set-up\n",
    "import pandas as pd\n",
    "import requests\n",
    "import json\n",
    "from config import api_key\n",
    "from pprint import pprint\n",
    "from datetime import date\n",
    "from matplotlib import pyplot as plt\n",
    "import numpy as np\n",
    "import gmaps\n",
    "from config import g_key\n",
    "import scipy.stats as stats\n",
    "from datetime import date"
   ]
  }
 ],
 "metadata": {
  "kernelspec": {
   "display_name": "Python [conda env:PythonData] *",
   "language": "python",
   "name": "conda-env-PythonData-py"
  },
  "language_info": {
   "codemirror_mode": {
    "name": "ipython",
    "version": 3
   },
   "file_extension": ".py",
   "mimetype": "text/x-python",
   "name": "python",
   "nbconvert_exporter": "python",
   "pygments_lexer": "ipython3",
   "version": "3.6.10"
  }
 },
 "nbformat": 4,
 "nbformat_minor": 4
}
